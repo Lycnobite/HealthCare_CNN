{
 "cells": [
  {
   "cell_type": "code",
   "execution_count": 1,
   "metadata": {},
   "outputs": [
    {
     "name": "stderr",
     "output_type": "stream",
     "text": [
      "Using TensorFlow backend.\n"
     ]
    }
   ],
   "source": [
    "from keras.models import Sequential\n",
    "from keras.layers import Convolution2D\n",
    "from keras.layers import MaxPooling2D\n",
    "from keras.layers import Flatten\n",
    "from keras.layers import Dense\n",
    "from keras.preprocessing.image import ImageDataGenerator"
   ]
  },
  {
   "cell_type": "code",
   "execution_count": 12,
   "metadata": {},
   "outputs": [],
   "source": [
    "classifier = Sequential()"
   ]
  },
  {
   "cell_type": "code",
   "execution_count": 13,
   "metadata": {},
   "outputs": [],
   "source": [
    "classifier.add(Convolution2D(filters=32, kernel_size=3, strides=1, input_shape=(64, 64, 3), activation=\"relu\"))\n",
    "classifier.add(MaxPooling2D(pool_size=(2, 2)))"
   ]
  },
  {
   "cell_type": "code",
   "execution_count": 14,
   "metadata": {},
   "outputs": [],
   "source": [
    "classifier.add(Convolution2D(filters=32, kernel_size=3, strides=1, activation=\"relu\"))\n",
    "classifier.add(MaxPooling2D(pool_size=(2, 2)))"
   ]
  },
  {
   "cell_type": "code",
   "execution_count": 15,
   "metadata": {},
   "outputs": [],
   "source": [
    "classifier.add(Flatten())"
   ]
  },
  {
   "cell_type": "code",
   "execution_count": 16,
   "metadata": {},
   "outputs": [],
   "source": [
    "classifier.add(Dense(units=128, activation=\"relu\"))\n",
    "classifier.add(Dense(units=1, activation=\"sigmoid\"))"
   ]
  },
  {
   "cell_type": "code",
   "execution_count": 17,
   "metadata": {},
   "outputs": [],
   "source": [
    "classifier.compile(optimizer=\"adam\", loss=\"binary_crossentropy\", metrics=['accuracy'])"
   ]
  },
  {
   "cell_type": "code",
   "execution_count": 18,
   "metadata": {},
   "outputs": [],
   "source": [
    "train_datagen = ImageDataGenerator(rescale=1./255, shear_range=0.2, zoom_range=0.2, horizontal_flip=True)\n",
    "test_datagen = ImageDataGenerator(rescale=1./255)"
   ]
  },
  {
   "cell_type": "code",
   "execution_count": 19,
   "metadata": {},
   "outputs": [
    {
     "name": "stdout",
     "output_type": "stream",
     "text": [
      "Found 5216 images belonging to 2 classes.\n",
      "Found 624 images belonging to 2 classes.\n"
     ]
    }
   ],
   "source": [
    "data_train = train_datagen.flow_from_directory('chest_xray/train', target_size=(64, 64), batch_size=32, class_mode='binary')\n",
    "data_test = test_datagen.flow_from_directory('chest_xray/test', target_size=(64, 64), batch_size=32, class_mode='binary')"
   ]
  },
  {
   "cell_type": "code",
   "execution_count": 20,
   "metadata": {
    "scrolled": true
   },
   "outputs": [
    {
     "name": "stdout",
     "output_type": "stream",
     "text": [
      "WARNING:tensorflow:From C:\\Users\\Malekus\\Anaconda3\\lib\\site-packages\\tensorflow\\python\\ops\\math_ops.py:3066: to_int32 (from tensorflow.python.ops.math_ops) is deprecated and will be removed in a future version.\n",
      "Instructions for updating:\n",
      "Use tf.cast instead.\n",
      "Epoch 1/25\n",
      "250/250 [==============================] - 471s 2s/step - loss: 0.3040 - acc: 0.8665 - val_loss: 0.3034 - val_acc: 0.8670\n",
      "Epoch 2/25\n",
      "250/250 [==============================] - 433s 2s/step - loss: 0.2090 - acc: 0.9154 - val_loss: 0.3804 - val_acc: 0.8558\n",
      "Epoch 3/25\n",
      "250/250 [==============================] - 441s 2s/step - loss: 0.1782 - acc: 0.9276 - val_loss: 0.3155 - val_acc: 0.8942\n",
      "Epoch 4/25\n",
      "250/250 [==============================] - 454s 2s/step - loss: 0.1566 - acc: 0.9401 - val_loss: 0.4250 - val_acc: 0.8622\n",
      "Epoch 5/25\n",
      "250/250 [==============================] - 440s 2s/step - loss: 0.1549 - acc: 0.9405 - val_loss: 0.2430 - val_acc: 0.9151\n",
      "Epoch 6/25\n",
      "250/250 [==============================] - 452s 2s/step - loss: 0.1447 - acc: 0.9456 - val_loss: 0.3369 - val_acc: 0.8798\n",
      "Epoch 7/25\n",
      "250/250 [==============================] - 454s 2s/step - loss: 0.1352 - acc: 0.9474 - val_loss: 0.2973 - val_acc: 0.8974\n",
      "Epoch 8/25\n",
      "250/250 [==============================] - 441s 2s/step - loss: 0.1206 - acc: 0.9553 - val_loss: 0.4837 - val_acc: 0.8686\n",
      "Epoch 9/25\n",
      "250/250 [==============================] - 447s 2s/step - loss: 0.1264 - acc: 0.9529 - val_loss: 0.3520 - val_acc: 0.8894\n",
      "Epoch 10/25\n",
      "250/250 [==============================] - 446s 2s/step - loss: 0.1109 - acc: 0.9580 - val_loss: 0.4136 - val_acc: 0.8782\n",
      "Epoch 11/25\n",
      "250/250 [==============================] - 426s 2s/step - loss: 0.1137 - acc: 0.9595 - val_loss: 0.2810 - val_acc: 0.9247\n",
      "Epoch 12/25\n",
      "250/250 [==============================] - 448s 2s/step - loss: 0.1064 - acc: 0.9620 - val_loss: 0.3277 - val_acc: 0.9054\n",
      "Epoch 13/25\n",
      "250/250 [==============================] - 529s 2s/step - loss: 0.1099 - acc: 0.9605 - val_loss: 0.2406 - val_acc: 0.9199\n",
      "Epoch 14/25\n",
      "250/250 [==============================] - 492s 2s/step - loss: 0.1057 - acc: 0.9600 - val_loss: 0.4765 - val_acc: 0.8542\n",
      "Epoch 15/25\n",
      "250/250 [==============================] - 499s 2s/step - loss: 0.1012 - acc: 0.9627 - val_loss: 0.3048 - val_acc: 0.9038\n",
      "Epoch 16/25\n",
      "250/250 [==============================] - 477s 2s/step - loss: 0.0965 - acc: 0.9625 - val_loss: 0.2487 - val_acc: 0.9199\n",
      "Epoch 17/25\n",
      "250/250 [==============================] - 457s 2s/step - loss: 0.0948 - acc: 0.9644 - val_loss: 0.4319 - val_acc: 0.8846\n",
      "Epoch 18/25\n",
      "250/250 [==============================] - 455s 2s/step - loss: 0.0967 - acc: 0.9635 - val_loss: 0.3306 - val_acc: 0.8910\n",
      "Epoch 19/25\n",
      "250/250 [==============================] - 396s 2s/step - loss: 0.0944 - acc: 0.9659 - val_loss: 0.3082 - val_acc: 0.9087\n",
      "Epoch 20/25\n",
      "250/250 [==============================] - 399s 2s/step - loss: 0.0862 - acc: 0.9680 - val_loss: 0.4075 - val_acc: 0.8862\n",
      "Epoch 21/25\n",
      "250/250 [==============================] - 400s 2s/step - loss: 0.0844 - acc: 0.9688 - val_loss: 0.4585 - val_acc: 0.8734\n",
      "Epoch 22/25\n",
      "250/250 [==============================] - 399s 2s/step - loss: 0.0813 - acc: 0.9696 - val_loss: 0.4505 - val_acc: 0.8686\n",
      "Epoch 23/25\n",
      "250/250 [==============================] - 398s 2s/step - loss: 0.0737 - acc: 0.9721 - val_loss: 0.4962 - val_acc: 0.8686\n",
      "Epoch 24/25\n",
      "250/250 [==============================] - 400s 2s/step - loss: 0.0822 - acc: 0.9670 - val_loss: 0.3086 - val_acc: 0.8942\n",
      "Epoch 25/25\n",
      "250/250 [==============================] - 397s 2s/step - loss: 0.0771 - acc: 0.9724 - val_loss: 0.2162 - val_acc: 0.9103\n"
     ]
    },
    {
     "data": {
      "text/plain": [
       "<keras.callbacks.History at 0x2722b616630>"
      ]
     },
     "execution_count": 20,
     "metadata": {},
     "output_type": "execute_result"
    }
   ],
   "source": [
    "classifier.fit_generator(data_train, steps_per_epoch=250, epochs=25, validation_data=data_test, validation_steps=800)"
   ]
  }
 ],
 "metadata": {
  "kernelspec": {
   "display_name": "Python 3",
   "language": "python",
   "name": "python3"
  },
  "language_info": {
   "codemirror_mode": {
    "name": "ipython",
    "version": 3
   },
   "file_extension": ".py",
   "mimetype": "text/x-python",
   "name": "python",
   "nbconvert_exporter": "python",
   "pygments_lexer": "ipython3",
   "version": "3.7.3"
  }
 },
 "nbformat": 4,
 "nbformat_minor": 2
}
